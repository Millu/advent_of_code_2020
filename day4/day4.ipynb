{
 "cells": [
  {
   "cell_type": "markdown",
   "metadata": {},
   "source": [
    "# Day 4\n",
    "\n",
    "You arrive at the airport only to realize that you grabbed your North Pole Credentials instead of your passport. While these documents are extremely similar, North Pole Credentials aren't issued by a country and therefore aren't actually valid documentation for travel in most of the world.\n",
    "\n",
    "It seems like you're not the only one having problems, though; a very long line has formed for the automatic passport scanners, and the delay could upset your travel itinerary.\n",
    "\n",
    "Due to some questionable network security, you realize you might be able to solve both of these problems at the same time.\n",
    "\n",
    "The automatic passport scanners are slow because they're having trouble detecting which passports have all required fields. The expected fields are as follows:\n",
    "\n",
    "* byr (Birth Year)\n",
    "* iyr (Issue Year)\n",
    "* eyr (Expiration Year)\n",
    "* hgt (Height)\n",
    "* hcl (Hair Color)\n",
    "* ecl (Eye Color)\n",
    "* pid (Passport ID)\n",
    "* cid (Country ID) (optional)"
   ]
  },
  {
   "cell_type": "code",
   "execution_count": 12,
   "metadata": {},
   "outputs": [],
   "source": [
    "path = 'input.txt'"
   ]
  },
  {
   "cell_type": "code",
   "execution_count": 13,
   "metadata": {},
   "outputs": [],
   "source": [
    "def read_parse_file(path):\n",
    "    with open(path) as f:\n",
    "        passports = f.read()\n",
    "    passports = data.split('\\n\\n')\n",
    "    passports = [p.replace('\\n', ' ').split() for p in passports]\n",
    "    return passports"
   ]
  },
  {
   "cell_type": "code",
   "execution_count": 14,
   "metadata": {},
   "outputs": [],
   "source": [
    "def count_valid_passports(passports):\n",
    "    valid_passports = 0\n",
    "    for p in passports:\n",
    "        if len(p) >= 7:\n",
    "            valid_passports = valid_passports + verify_fields(p)\n",
    "    return valid_passports"
   ]
  },
  {
   "cell_type": "markdown",
   "metadata": {},
   "source": [
    "## Validation Rules\n",
    "* byr (Birth Year) - four digits; at least 1920 and at most 2002.\n",
    "* iyr (Issue Year) - four digits; at least 2010 and at most 2020.\n",
    "* eyr (Expiration Year) - four digits; at least 2020 and at most 2030.\n",
    "* hgt (Height) - a number followed by either cm or in:\n",
    "    * If cm, the number must be at least 150 and at most 193.\n",
    "    * If in, the number must be at least 59 and at most 76.\n",
    "* hcl (Hair Color) - a # followed by exactly six characters 0-9 or a-f.\n",
    "* ecl (Eye Color) - exactly one of: amb blu brn gry grn hzl oth.\n",
    "* pid (Passport ID) - a nine-digit number, including leading zeroes.\n",
    "* cid (Country ID) - ignored, missing or not."
   ]
  },
  {
   "cell_type": "code",
   "execution_count": 16,
   "metadata": {},
   "outputs": [],
   "source": [
    "def verify_fields(passport):\n",
    "    pass_dict = {}\n",
    "    for x in p:\n",
    "        x = x.split(':')\n",
    "        pass_dict[x[0]] = x[1]\n",
    "    if len(passport) == 7 and 'cid' in pass_dict.keys():\n",
    "        return 0\n",
    "    \n",
    "def verify_birth_year(birth_year):\n",
    "    return 1920 <= birth_year <= 2002\n",
    "\n",
    "def verify_issue_year(issue_year):\n",
    "    return 2010 <= issue_year <= 2020\n",
    "\n",
    "def verify_exp_year(exp_year):\n",
    "    return 2020 <= exp_year <= 2030\n",
    "\n",
    "def verify_height(height):\n",
    "    if height[:2, -1] == 'in'\n",
    "    \n",
    "    elif height[:2, -1] == 'cm':\n",
    "        \n",
    "    else:\n",
    "        return False"
   ]
  },
  {
   "cell_type": "code",
   "execution_count": 15,
   "metadata": {},
   "outputs": [
    {
     "data": {
      "text/plain": [
       "247"
      ]
     },
     "execution_count": 15,
     "metadata": {},
     "output_type": "execute_result"
    }
   ],
   "source": [
    "passports = read_parse_file(path)\n",
    "count_valid_passports(passports)"
   ]
  },
  {
   "cell_type": "code",
   "execution_count": null,
   "metadata": {},
   "outputs": [],
   "source": [
    "\\"
   ]
  }
 ],
 "metadata": {
  "kernelspec": {
   "display_name": "Python 3",
   "language": "python",
   "name": "python3"
  },
  "language_info": {
   "codemirror_mode": {
    "name": "ipython",
    "version": 3
   },
   "file_extension": ".py",
   "mimetype": "text/x-python",
   "name": "python",
   "nbconvert_exporter": "python",
   "pygments_lexer": "ipython3",
   "version": "3.9.0"
  }
 },
 "nbformat": 4,
 "nbformat_minor": 4
}
