{
 "cells": [
  {
   "cell_type": "markdown",
   "metadata": {},
   "source": [
    "# Day 4\n",
    "\n",
    "You arrive at the airport only to realize that you grabbed your North Pole Credentials instead of your passport. While these documents are extremely similar, North Pole Credentials aren't issued by a country and therefore aren't actually valid documentation for travel in most of the world.\n",
    "\n",
    "It seems like you're not the only one having problems, though; a very long line has formed for the automatic passport scanners, and the delay could upset your travel itinerary.\n",
    "\n",
    "Due to some questionable network security, you realize you might be able to solve both of these problems at the same time.\n",
    "\n",
    "The automatic passport scanners are slow because they're having trouble detecting which passports have all required fields. The expected fields are as follows:\n",
    "\n",
    "* byr (Birth Year)\n",
    "* iyr (Issue Year)\n",
    "* eyr (Expiration Year)\n",
    "* hgt (Height)\n",
    "* hcl (Hair Color)\n",
    "* ecl (Eye Color)\n",
    "* pid (Passport ID)\n",
    "* cid (Country ID) (optional)"
   ]
  },
  {
   "cell_type": "code",
   "execution_count": null,
   "metadata": {},
   "outputs": [],
   "source": [
    "import re"
   ]
  },
  {
   "cell_type": "code",
   "execution_count": null,
   "metadata": {},
   "outputs": [],
   "source": [
    "path = 'input.txt'"
   ]
  },
  {
   "cell_type": "code",
   "execution_count": null,
   "metadata": {},
   "outputs": [],
   "source": [
    "def read_parse_file(path):\n",
    "    with open(path) as f:\n",
    "        passports = f.read()\n",
    "    passports = data.split('\\n\\n')\n",
    "    passports = [p.replace('\\n', ' ').split() for p in passports]\n",
    "    return passports"
   ]
  },
  {
   "cell_type": "code",
   "execution_count": null,
   "metadata": {},
   "outputs": [],
   "source": [
    "def count_valid_passports(passports):\n",
    "    valid_passports = 0\n",
    "    for p in passports:\n",
    "        if len(p) >= 7:\n",
    "            valid_passports = valid_passports + verify_fields(p)\n",
    "    print(str(valid_passports)+' valid passports!')\n",
    "    return valid_passports"
   ]
  },
  {
   "cell_type": "markdown",
   "metadata": {},
   "source": [
    "## Validation Rules\n",
    "* byr (Birth Year) - four digits; at least 1920 and at most 2002.\n",
    "* iyr (Issue Year) - four digits; at least 2010 and at most 2020.\n",
    "* eyr (Expiration Year) - four digits; at least 2020 and at most 2030.\n",
    "* hgt (Height) - a number followed by either cm or in:\n",
    "    * If cm, the number must be at least 150 and at most 193.\n",
    "    * If in, the number must be at least 59 and at most 76.\n",
    "* hcl (Hair Color) - a # followed by exactly six characters 0-9 or a-f.\n",
    "* ecl (Eye Color) - exactly one of: amb blu brn gry grn hzl oth.\n",
    "* pid (Passport ID) - a nine-digit number, including leading zeroes.\n",
    "* cid (Country ID) - ignored, missing or not."
   ]
  },
  {
   "cell_type": "code",
   "execution_count": null,
   "metadata": {},
   "outputs": [],
   "source": [
    "def verify_fields(passport):\n",
    "    pass_dict = {}\n",
    "    for field in passport:\n",
    "        field = field.split(':')\n",
    "        pass_dict[field[0]] = field[1]\n",
    "    value_check = 0\n",
    "    \n",
    "    if len(passport) == 7 and 'cid' in pass_dict.keys():\n",
    "        return 0\n",
    "    \n",
    "    for k in pass_dict.keys():\n",
    "        if k != 'cid':\n",
    "            if not eval('verify_'+k+'(\\''+str(pass_dict[k])+'\\')'):\n",
    "                return 0\n",
    "    return 1\n",
    "\n",
    "    \n",
    "def verify_byr(birth_year):\n",
    "    return 1920 <= int(birth_year) <= 2002\n",
    "\n",
    "def verify_iyr(issue_year):\n",
    "    return 2010 <= int(issue_year) <= 2020\n",
    "\n",
    "def verify_eyr(exp_year):\n",
    "    return 2020 <= int(exp_year) <= 2030\n",
    "\n",
    "def verify_hgt(height):\n",
    "    if len(height) < 3:\n",
    "        return False\n",
    "    \n",
    "    if height[-2:] == 'in':\n",
    "        return 59 <= int(height[:-2]) <= 76\n",
    "    elif height[-2:] == 'cm':\n",
    "        return 150 <= int(height[:-2]) <= 193\n",
    "    else:\n",
    "        return False\n",
    "    \n",
    "def verify_hcl(hair_color):\n",
    "    return bool(re.search('^#[0-9a-f]{6}$', hair_color))\n",
    "    \n",
    "def verify_ecl(eye_color):\n",
    "#     print(eye_color)\n",
    "    return bool(re.search('amb|blu|brn|gry|grn|hzl|oth', eye_color))\n",
    "\n",
    "def verify_pid(password_id):\n",
    "    if len(password_id) != 9:\n",
    "        return False\n",
    "    return bool(re.search('[0-9]{9}', password_id))"
   ]
  },
  {
   "cell_type": "code",
   "execution_count": null,
   "metadata": {},
   "outputs": [],
   "source": [
    "passports = read_parse_file(path)\n",
    "count_valid_passports(passports)"
   ]
  },
  {
   "cell_type": "code",
   "execution_count": null,
   "metadata": {},
   "outputs": [],
   "source": []
  }
 ],
 "metadata": {
  "kernelspec": {
   "display_name": "Python 3",
   "language": "python",
   "name": "python3"
  },
  "language_info": {
   "codemirror_mode": {
    "name": "ipython",
    "version": 3
   },
   "file_extension": ".py",
   "mimetype": "text/x-python",
   "name": "python",
   "nbconvert_exporter": "python",
   "pygments_lexer": "ipython3",
   "version": "3.9.0"
  }
 },
 "nbformat": 4,
 "nbformat_minor": 4
}
