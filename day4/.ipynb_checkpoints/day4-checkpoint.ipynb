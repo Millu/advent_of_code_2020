{
 "cells": [
  {
   "cell_type": "code",
   "execution_count": 1,
   "metadata": {},
   "outputs": [],
   "source": [
    "path = 'input.txt'"
   ]
  },
  {
   "cell_type": "code",
   "execution_count": 2,
   "metadata": {},
   "outputs": [],
   "source": [
    "def read_file(path):\n",
    "    with open(path) as f:\n",
    "        passports = f.read()\n",
    "    return passports"
   ]
  },
  {
   "cell_type": "code",
   "execution_count": 8,
   "metadata": {},
   "outputs": [],
   "source": [
    "def parse_input_count(data):\n",
    "    passports = data.split('\\n\\n')\n",
    "    passports = [p.replace('\\n', ' ').split() for p in passports]\n",
    "    valid_passports = 0\n",
    "    for p in passports:\n",
    "        if len(p) == 8:\n",
    "            valid_passports = valid_passports + 1\n",
    "        elif len(p) == 7:\n",
    "            pass_dict = {}\n",
    "            for x in p:\n",
    "                x = x.split(':')\n",
    "                pass_dict[x[0]] = x[1]\n",
    "            if 'cid' not in pass_dict.keys():\n",
    "                valid_passports = valid_passports + 1\n",
    "    return valid_passports"
   ]
  },
  {
   "cell_type": "code",
   "execution_count": 9,
   "metadata": {},
   "outputs": [
    {
     "data": {
      "text/plain": [
       "247"
      ]
     },
     "execution_count": 9,
     "metadata": {},
     "output_type": "execute_result"
    }
   ],
   "source": [
    "data = read_file(path)\n",
    "parse_input_count(data)"
   ]
  },
  {
   "cell_type": "code",
   "execution_count": null,
   "metadata": {},
   "outputs": [],
   "source": [
    "attributes = ['byr',\n",
    "'iyr',\n",
    "'eyr',\n",
    "'hgt',\n",
    "'hcl',\n",
    "'ecl',\n",
    "'pid',\n",
    "'cid']"
   ]
  },
  {
   "cell_type": "code",
   "execution_count": null,
   "metadata": {},
   "outputs": [],
   "source": []
  },
  {
   "cell_type": "code",
   "execution_count": null,
   "metadata": {},
   "outputs": [],
   "source": []
  }
 ],
 "metadata": {
  "kernelspec": {
   "display_name": "Python 3",
   "language": "python",
   "name": "python3"
  },
  "language_info": {
   "codemirror_mode": {
    "name": "ipython",
    "version": 3
   },
   "file_extension": ".py",
   "mimetype": "text/x-python",
   "name": "python",
   "nbconvert_exporter": "python",
   "pygments_lexer": "ipython3",
   "version": "3.9.0"
  }
 },
 "nbformat": 4,
 "nbformat_minor": 4
}
