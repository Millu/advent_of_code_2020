{
 "cells": [
  {
   "cell_type": "code",
   "execution_count": 98,
   "metadata": {},
   "outputs": [],
   "source": [
    "import math"
   ]
  },
  {
   "cell_type": "code",
   "execution_count": 96,
   "metadata": {},
   "outputs": [],
   "source": [
    "file_path = 'input.txt'"
   ]
  },
  {
   "cell_type": "code",
   "execution_count": 97,
   "metadata": {},
   "outputs": [],
   "source": [
    "def read_file(path):\n",
    "    trees = []\n",
    "    with open(path) as f:\n",
    "        for line in f:\n",
    "            trees.append(line.strip())\n",
    "    return trees"
   ]
  },
  {
   "cell_type": "code",
   "execution_count": 109,
   "metadata": {},
   "outputs": [],
   "source": [
    "def count_trees_hit(trees, slopes):\n",
    "    total_trees_hit = []\n",
    "    for s in slopes:\n",
    "        trees_hit = 0\n",
    "        x = 0\n",
    "        y = 0\n",
    "        row_size = len(trees[0])\n",
    "        print(s)\n",
    "        while y < len(trees):\n",
    "            location = trees[y][x]\n",
    "            if location == '#':\n",
    "                trees_hit = trees_hit + 1\n",
    "            x = x+s[0]\n",
    "            if x >= row_size:\n",
    "                x = x % row_size\n",
    "#                 print(x, y)\n",
    "            y = y+s[1]\n",
    "        total_trees_hit.append(trees_hit)\n",
    "    total = math.prod(total_trees_hit)\n",
    "    print(\"you hit ~\"+str(total)+'~ trees ya jerry')\n",
    "    return total, total_trees_hit"
   ]
  },
  {
   "cell_type": "code",
   "execution_count": 110,
   "metadata": {},
   "outputs": [],
   "source": [
    "trees = read_file(file_path)"
   ]
  },
  {
   "cell_type": "code",
   "execution_count": 111,
   "metadata": {
    "scrolled": true
   },
   "outputs": [
    {
     "name": "stdout",
     "output_type": "stream",
     "text": [
      "(1, 1)\n",
      "(3, 1)\n",
      "(5, 1)\n",
      "(7, 1)\n",
      "(1, 2)\n",
      "you hit ~9354744432~ trees ya jerry\n"
     ]
    },
    {
     "data": {
      "text/plain": [
       "(9354744432, [81, 292, 89, 101, 44])"
      ]
     },
     "execution_count": 111,
     "metadata": {},
     "output_type": "execute_result"
    }
   ],
   "source": [
    "slopes = [(1,1), (3,1), (5,1), (7,1), (1,2)]\n",
    "count_trees_hit(trees, slopes)"
   ]
  },
  {
   "cell_type": "code",
   "execution_count": null,
   "metadata": {},
   "outputs": [],
   "source": []
  },
  {
   "cell_type": "code",
   "execution_count": null,
   "metadata": {},
   "outputs": [],
   "source": []
  }
 ],
 "metadata": {
  "kernelspec": {
   "display_name": "Python 3",
   "language": "python",
   "name": "python3"
  },
  "language_info": {
   "codemirror_mode": {
    "name": "ipython",
    "version": 3
   },
   "file_extension": ".py",
   "mimetype": "text/x-python",
   "name": "python",
   "nbconvert_exporter": "python",
   "pygments_lexer": "ipython3",
   "version": "3.9.0"
  }
 },
 "nbformat": 4,
 "nbformat_minor": 4
}
